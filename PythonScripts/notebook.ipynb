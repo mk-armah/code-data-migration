{
 "cells": [
  {
   "cell_type": "code",
   "execution_count": 2,
   "id": "40087c0f",
   "metadata": {},
   "outputs": [
    {
     "data": {
      "text/plain": [
       "True"
      ]
     },
     "execution_count": 2,
     "metadata": {},
     "output_type": "execute_result"
    }
   ],
   "source": [
    "import openpyxl\n",
    "from openpyxl import Workbook\n",
    "import os\n",
    "import pandas as pd\n",
    "import numpy as np\n",
    "from openpyxl.styles import Font\n",
    "\n",
    "from openpyxl.styles import Alignment\n",
    "from openpyxl.styles import Font\n",
    "import boto3\n",
    "\n",
    "from dotenv import load_dotenv\n",
    "load_dotenv(\".env\")"
   ]
  },
  {
   "cell_type": "code",
   "execution_count": 25,
   "id": "b4c9044e",
   "metadata": {},
   "outputs": [],
   "source": [
    "s3 = boto3.resource(\n",
    "            service_name='s3',\n",
    "            aws_access_key_id = os.environ.get(\"ACCESS_KEY_ID\"),   \n",
    "            aws_secret_access_key = os.environ.get(\"SECRET_ACCESS_KEY\") \n",
    "            )"
   ]
  },
  {
   "cell_type": "code",
   "execution_count": 4,
   "id": "24305406",
   "metadata": {},
   "outputs": [
    {
     "name": "stdout",
     "output_type": "stream",
     "text": [
      "current working dir: \\ D:\\Users\\mk-armah\\OneDrive\\CODE\\SQL\\SQLSERVER\\CoDE-Data-Migration\n"
     ]
    }
   ],
   "source": [
    "from openpyxl import styles\n",
    "base_dir = \"D:\\\\Users\\\\mk-armah\\\\OneDrive\\\\CODE\\\\SQL\\\\SQLSERVER\\\\CoDE-Data-Migration\"\n",
    "try:\n",
    "    assert os.getcwd() == base_dir \n",
    "except AssertionError:\n",
    "    print(\"You are not in the appropriate directory\")\n",
    "    print(\"Switching ........... \\n\")\n",
    "finally:\n",
    "    os.chdir(base_dir)\n",
    "    print(\"current working dir: \\ {}\".format(os.getcwd()))"
   ]
  },
  {
   "cell_type": "code",
   "execution_count": 6,
   "id": "85745d9c",
   "metadata": {},
   "outputs": [],
   "source": [
    "sheetname = 'ACUMEN_Q1_SEM1_IC'\n",
    "purpose = 'QUIZ 1 IC FOR SEMESTER 1'"
   ]
  },
  {
   "cell_type": "code",
   "execution_count": 7,
   "id": "df7adafe",
   "metadata": {},
   "outputs": [
    {
     "data": {
      "text/plain": [
       "'..\\\\IC_WITH_PHONE_NUMBERS_EDITED_II (1).xlsx'"
      ]
     },
     "execution_count": 7,
     "metadata": {},
     "output_type": "execute_result"
    }
   ],
   "source": [
    "file_dir = os.path.join('..','IC_WITH_PHONE_NUMBERS_EDITED_II (1).xlsx')\n",
    "file_dir"
   ]
  },
  {
   "cell_type": "code",
   "execution_count": 8,
   "id": "babd5e88",
   "metadata": {},
   "outputs": [
    {
     "name": "stdout",
     "output_type": "stream",
     "text": [
      "exce ['unnamed: 0', 'unnamed: 1', 'unnamed: 2', 'unnamed: 3', 'unnamed: 4', 'unnamed: 5', 'unnamed: 6', 'unnamed: 7'] \n",
      "\n",
      "compare Index(['Unnamed: 0', 'Unnamed: 1', 'Unnamed: 2', 'Unnamed: 3', 'Unnamed: 4',\n",
      "       'Unnamed: 5', 'Unnamed: 6', 'Unnamed: 7'],\n",
      "      dtype='object')\n",
      "exce ['unnamed: 0', 'unnamed: 1', 'unnamed: 2', 'unnamed: 3', 'unnamed: 4', 'unnamed: 5', 'unnamed: 6', 'unnamed: 7'] \n",
      "\n",
      "compare Index(['Unnamed: 0', 'Unnamed: 1', 'Unnamed: 2', 'Unnamed: 3', 'Unnamed: 4',\n",
      "       'Unnamed: 5', 'Unnamed: 6', 'Unnamed: 7'],\n",
      "      dtype='object')\n"
     ]
    },
    {
     "data": {
      "text/html": [
       "<div>\n",
       "<style scoped>\n",
       "    .dataframe tbody tr th:only-of-type {\n",
       "        vertical-align: middle;\n",
       "    }\n",
       "\n",
       "    .dataframe tbody tr th {\n",
       "        vertical-align: top;\n",
       "    }\n",
       "\n",
       "    .dataframe thead th {\n",
       "        text-align: right;\n",
       "    }\n",
       "</style>\n",
       "<table border=\"1\" class=\"dataframe\">\n",
       "  <thead>\n",
       "    <tr style=\"text-align: right;\">\n",
       "      <th></th>\n",
       "      <th>CENTRE NAME</th>\n",
       "      <th>REGISTRATION NUMBER</th>\n",
       "      <th>NAME</th>\n",
       "      <th>LEVEL</th>\n",
       "      <th>LONG NAME</th>\n",
       "      <th>CODE</th>\n",
       "      <th>TITLE</th>\n",
       "      <th>SESSION</th>\n",
       "    </tr>\n",
       "  </thead>\n",
       "  <tbody>\n",
       "    <tr>\n",
       "      <th>0</th>\n",
       "      <td>ACCRA HIGH SCHOOL</td>\n",
       "      <td>1105054100257</td>\n",
       "      <td>OBENG, BLESSED OSEI</td>\n",
       "      <td>200</td>\n",
       "      <td>DIPLOMA IN BASIC EDUCATION - DISTANCE</td>\n",
       "      <td>EFO211DL</td>\n",
       "      <td>BASIC SCHOOL ADMINISTRATION AND SUPERVISION</td>\n",
       "      <td>20121</td>\n",
       "    </tr>\n",
       "    <tr>\n",
       "      <th>1</th>\n",
       "      <td>ACCRA HIGH SCHOOL</td>\n",
       "      <td>1101013100061</td>\n",
       "      <td>KWAKYE MANU, JOYCE</td>\n",
       "      <td>200</td>\n",
       "      <td>DIPLOMA IN BASIC EDUCATION - DISTANCE</td>\n",
       "      <td>EPS210DL</td>\n",
       "      <td>INTRODUCTION TO GUIDANCE AND COUNSELLING</td>\n",
       "      <td>20121</td>\n",
       "    </tr>\n",
       "    <tr>\n",
       "      <th>2</th>\n",
       "      <td>ACCRA HIGH SCHOOL</td>\n",
       "      <td>1105054100108</td>\n",
       "      <td>ADDO, VIDA</td>\n",
       "      <td>200</td>\n",
       "      <td>DIPLOMA IN BASIC EDUCATION - DISTANCE</td>\n",
       "      <td>EHS310DL</td>\n",
       "      <td>INTRODUCTION TO PHYSICAL EDUCATION</td>\n",
       "      <td>20131</td>\n",
       "    </tr>\n",
       "    <tr>\n",
       "      <th>3</th>\n",
       "      <td>NaN</td>\n",
       "      <td>NaN</td>\n",
       "      <td>NaN</td>\n",
       "      <td>NaN</td>\n",
       "      <td>NaN</td>\n",
       "      <td>NaN</td>\n",
       "      <td>NaN</td>\n",
       "      <td>NaN</td>\n",
       "    </tr>\n",
       "    <tr>\n",
       "      <th>4</th>\n",
       "      <td>NaN</td>\n",
       "      <td>NaN</td>\n",
       "      <td>NaN</td>\n",
       "      <td>NaN</td>\n",
       "      <td>NaN</td>\n",
       "      <td>NaN</td>\n",
       "      <td>NaN</td>\n",
       "      <td>NaN</td>\n",
       "    </tr>\n",
       "  </tbody>\n",
       "</table>\n",
       "</div>"
      ],
      "text/plain": [
       "         CENTRE NAME REGISTRATION NUMBER                 NAME LEVEL  \\\n",
       "0  ACCRA HIGH SCHOOL       1105054100257  OBENG, BLESSED OSEI   200   \n",
       "1  ACCRA HIGH SCHOOL       1101013100061  KWAKYE MANU, JOYCE    200   \n",
       "2  ACCRA HIGH SCHOOL       1105054100108          ADDO, VIDA    200   \n",
       "3                NaN                 NaN                  NaN   NaN   \n",
       "4                NaN                 NaN                  NaN   NaN   \n",
       "\n",
       "                               LONG NAME      CODE  \\\n",
       "0  DIPLOMA IN BASIC EDUCATION - DISTANCE  EFO211DL   \n",
       "1  DIPLOMA IN BASIC EDUCATION - DISTANCE  EPS210DL   \n",
       "2  DIPLOMA IN BASIC EDUCATION - DISTANCE  EHS310DL   \n",
       "3                                    NaN       NaN   \n",
       "4                                    NaN       NaN   \n",
       "\n",
       "                                         TITLE SESSION  \n",
       "0  BASIC SCHOOL ADMINISTRATION AND SUPERVISION   20121  \n",
       "1     INTRODUCTION TO GUIDANCE AND COUNSELLING   20121  \n",
       "2           INTRODUCTION TO PHYSICAL EDUCATION   20131  \n",
       "3                                          NaN     NaN  \n",
       "4                                          NaN     NaN  "
      ]
     },
     "metadata": {},
     "output_type": "display_data"
    }
   ],
   "source": [
    "retries = 12\n",
    "for i in range(3,retries):\n",
    "    try:\n",
    "        \n",
    "        df = pd.read_excel(file_dir,sheet_name = sheetname,skiprows = i)\n",
    "        columns = [\"CENTRE NAME\",\"REGISTRATION NUMBER\",\"NAME\",\"LEVEL\",\"LONG NAME\",\"CODE\",\"TITLE\",\"SESSION\"]\n",
    "        assert [x for x in df.columns] == columns\n",
    "        display(df.head())\n",
    "        break\n",
    "        #df.columns = columns\n",
    "    except AssertionError:\n",
    "        print(\"exce\",[x.lower() for x in df.columns],\"\\n\")\n",
    "        print(\"compare\",df.columns)\n",
    "        continue\n",
    "        \n",
    "    if i == 9:\n",
    "        break"
   ]
  },
  {
   "cell_type": "code",
   "execution_count": 9,
   "id": "f3899c8a",
   "metadata": {},
   "outputs": [
    {
     "data": {
      "text/plain": [
       "Index(['CENTRE NAME', 'REGISTRATION NUMBER', 'NAME', 'LEVEL', 'LONG NAME',\n",
       "       'CODE', 'TITLE', 'SESSION'],\n",
       "      dtype='object')"
      ]
     },
     "execution_count": 9,
     "metadata": {},
     "output_type": "execute_result"
    }
   ],
   "source": [
    "df.columns"
   ]
  },
  {
   "cell_type": "code",
   "execution_count": 27,
   "id": "ebac9e32",
   "metadata": {},
   "outputs": [
    {
     "data": {
      "text/plain": [
       "['ACCRA HIGH SCHOOL',\n",
       " 1105054100257,\n",
       " 'OBENG, BLESSED OSEI',\n",
       " 200,\n",
       " 'DIPLOMA IN BASIC EDUCATION - DISTANCE',\n",
       " 'EFO211DL',\n",
       " 'BASIC SCHOOL ADMINISTRATION AND SUPERVISION',\n",
       " 20121]"
      ]
     },
     "execution_count": 27,
     "metadata": {},
     "output_type": "execute_result"
    }
   ],
   "source": [
    "for index, row in df.iterrows():\n",
    "    out =  list(row.values)\n",
    "    break\n",
    "    \n",
    "out"
   ]
  },
  {
   "cell_type": "code",
   "execution_count": 17,
   "id": "de8888e3",
   "metadata": {},
   "outputs": [
    {
     "ename": "SyntaxError",
     "evalue": "invalid syntax (2630437156.py, line 1)",
     "output_type": "error",
     "traceback": [
      "\u001b[1;36m  Input \u001b[1;32mIn [17]\u001b[1;36m\u001b[0m\n\u001b[1;33m    ('ACCRA HIGH SCHOOL' 1105054100257 'OBENG, BLESSED OSEI' 200\u001b[0m\n\u001b[1;37m                         ^\u001b[0m\n\u001b[1;31mSyntaxError\u001b[0m\u001b[1;31m:\u001b[0m invalid syntax\n"
     ]
    }
   ],
   "source": [
    "('ACCRA HIGH SCHOOL' 1105054100257 'OBENG, BLESSED OSEI' 200\n",
    " 'DIPLOMA IN BASIC EDUCATION - DISTANCE' 'EFO211DL'\n",
    " 'BASIC SCHOOL ADMINISTRATION AND SUPERVISION' 20121)"
   ]
  },
  {
   "cell_type": "code",
   "execution_count": null,
   "id": "d8964b41",
   "metadata": {},
   "outputs": [],
   "source": [
    "\n",
    "import json\n",
    "with open(\"sheets_meta_data.json\",\"r\") as jfile:\n",
    "    meta_data = json.load(jfile)\n",
    "\n",
    "    \n",
    "meta_data.keys()"
   ]
  },
  {
   "cell_type": "code",
   "execution_count": 46,
   "id": "9d9c7220",
   "metadata": {},
   "outputs": [],
   "source": [
    "sheetname = 'ACUMEN_Q1_SEM1_IC'\n",
    "purpose = 'QUIZ 1 IC FOR SEMESTER 1'\n",
    "\n",
    "def load_data(sheetname,purpose):\n",
    "    from openpyxl import styles\n",
    "    base_dir = \"D:\\\\Users\\\\mk-armah\\\\OneDrive\\\\CODE\\\\SQL\\\\SQLSERVER\\\\CoDE-Data-Migration\"\n",
    "    try:\n",
    "        assert os.getcwd() == base_dir \n",
    "    except AssertionError:\n",
    "        print(\"You are not in the appropriate directory\")\n",
    "        print(\"Switching ........... \\n\")\n",
    "    finally:\n",
    "        os.chdir(base_dir)\n",
    "        print(\"current working dir: \\ {}\".format(os.getcwd()))\n",
    "    \n",
    "\n",
    "    \n",
    "    file_dir = os.path.join(os.getcwd(),'IC_WITH_PHONE_NUMBERS_EDITED_II.xlsx')\n",
    "    file_dir\n",
    "    \n",
    "    df = pd.read_excel(file_dir,sheet_name = sheetname,skiprows = 5)\n",
    "    columns = ['CENTRE NAME','REGISTRATION NUMBER','NAME','LEVEL','LONG NAME','CODE','TITLE','SESSION']\n",
    "    df.columns = columns\n",
    "    df.head()"
   ]
  },
  {
   "cell_type": "code",
   "execution_count": 19,
   "id": "ce38710d",
   "metadata": {},
   "outputs": [
    {
     "data": {
      "text/plain": [
       "63"
      ]
     },
     "execution_count": 19,
     "metadata": {},
     "output_type": "execute_result"
    }
   ],
   "source": [
    "df['CENTRE NAME'].nunique()"
   ]
  },
  {
   "cell_type": "code",
   "execution_count": 20,
   "id": "7999a7df",
   "metadata": {},
   "outputs": [
    {
     "data": {
      "text/html": [
       "<div>\n",
       "<style scoped>\n",
       "    .dataframe tbody tr th:only-of-type {\n",
       "        vertical-align: middle;\n",
       "    }\n",
       "\n",
       "    .dataframe tbody tr th {\n",
       "        vertical-align: top;\n",
       "    }\n",
       "\n",
       "    .dataframe thead th {\n",
       "        text-align: right;\n",
       "    }\n",
       "</style>\n",
       "<table border=\"1\" class=\"dataframe\">\n",
       "  <thead>\n",
       "    <tr style=\"text-align: right;\">\n",
       "      <th></th>\n",
       "      <th>CENTRE NAME</th>\n",
       "      <th>REGISTRATION NUMBER</th>\n",
       "      <th>NAME</th>\n",
       "      <th>LEVEL</th>\n",
       "      <th>LONG NAME</th>\n",
       "      <th>CODE</th>\n",
       "      <th>TITLE</th>\n",
       "      <th>SESSION</th>\n",
       "    </tr>\n",
       "  </thead>\n",
       "  <tbody>\n",
       "    <tr>\n",
       "      <th>0</th>\n",
       "      <td>ACCRA HIGH SCHOOL</td>\n",
       "      <td>1105054100257</td>\n",
       "      <td>OBENG, BLESSED OSEI</td>\n",
       "      <td>200</td>\n",
       "      <td>DIPLOMA IN BASIC EDUCATION - DISTANCE</td>\n",
       "      <td>EFO211DL</td>\n",
       "      <td>BASIC SCHOOL ADMINISTRATION AND SUPERVISION</td>\n",
       "      <td>20121</td>\n",
       "    </tr>\n",
       "    <tr>\n",
       "      <th>1</th>\n",
       "      <td>ACCRA HIGH SCHOOL</td>\n",
       "      <td>1101013100061</td>\n",
       "      <td>KWAKYE MANU, JOYCE</td>\n",
       "      <td>200</td>\n",
       "      <td>DIPLOMA IN BASIC EDUCATION - DISTANCE</td>\n",
       "      <td>EPS210DL</td>\n",
       "      <td>INTRODUCTION TO GUIDANCE AND COUNSELLING</td>\n",
       "      <td>20121</td>\n",
       "    </tr>\n",
       "  </tbody>\n",
       "</table>\n",
       "</div>"
      ],
      "text/plain": [
       "         CENTRE NAME REGISTRATION NUMBER                 NAME LEVEL  \\\n",
       "0  ACCRA HIGH SCHOOL       1105054100257  OBENG, BLESSED OSEI   200   \n",
       "1  ACCRA HIGH SCHOOL       1101013100061  KWAKYE MANU, JOYCE    200   \n",
       "\n",
       "                               LONG NAME      CODE  \\\n",
       "0  DIPLOMA IN BASIC EDUCATION - DISTANCE  EFO211DL   \n",
       "1  DIPLOMA IN BASIC EDUCATION - DISTANCE  EPS210DL   \n",
       "\n",
       "                                         TITLE SESSION  \n",
       "0  BASIC SCHOOL ADMINISTRATION AND SUPERVISION   20121  \n",
       "1     INTRODUCTION TO GUIDANCE AND COUNSELLING   20121  "
      ]
     },
     "execution_count": 20,
     "metadata": {},
     "output_type": "execute_result"
    }
   ],
   "source": [
    "df.columns = [i.upper() for i in df.columns]\n",
    "df.head(2)"
   ]
  },
  {
   "cell_type": "code",
   "execution_count": 21,
   "id": "e36d0fe8",
   "metadata": {},
   "outputs": [],
   "source": [
    "df = df.dropna()"
   ]
  },
  {
   "cell_type": "code",
   "execution_count": 22,
   "id": "03377865",
   "metadata": {},
   "outputs": [
    {
     "name": "stdout",
     "output_type": "stream",
     "text": [
      "['CENTRE NAME', 'REGISTRATION NUMBER', 'NAME', 'LEVEL', 'LONG NAME', 'CODE', 'TITLE', 'SESSION']\n"
     ]
    }
   ],
   "source": [
    "new_columns = [i.replace(\"_\",\" \") for i in df.columns]\n",
    "print(new_columns)\n",
    "df.columns = new_columns"
   ]
  },
  {
   "cell_type": "code",
   "execution_count": 23,
   "id": "f472e710",
   "metadata": {},
   "outputs": [],
   "source": [
    "df.set_index(\"CENTRE NAME\",inplace = True)"
   ]
  },
  {
   "cell_type": "code",
   "execution_count": 24,
   "id": "93692ffb",
   "metadata": {},
   "outputs": [],
   "source": [
    "df.drop('CENTRE NAME',axis = 0,inplace = True)"
   ]
  },
  {
   "cell_type": "code",
   "execution_count": 25,
   "id": "3e1b7647",
   "metadata": {},
   "outputs": [
    {
     "data": {
      "text/plain": [
       "REGISTRATION NUMBER    0\n",
       "NAME                   0\n",
       "LEVEL                  0\n",
       "LONG NAME              0\n",
       "CODE                   0\n",
       "TITLE                  0\n",
       "SESSION                0\n",
       "dtype: int64"
      ]
     },
     "execution_count": 25,
     "metadata": {},
     "output_type": "execute_result"
    }
   ],
   "source": [
    "df.isna().sum()"
   ]
  },
  {
   "cell_type": "code",
   "execution_count": 26,
   "id": "457f8338",
   "metadata": {},
   "outputs": [],
   "source": [
    "index_ = [i for i in range(1,len(df)+1)]"
   ]
  },
  {
   "cell_type": "code",
   "execution_count": 27,
   "id": "d19b3a7e",
   "metadata": {},
   "outputs": [],
   "source": [
    "index_ = list(range(1,len(df)+1))"
   ]
  },
  {
   "cell_type": "code",
   "execution_count": 28,
   "id": "30c2a576",
   "metadata": {},
   "outputs": [
    {
     "data": {
      "text/html": [
       "<div>\n",
       "<style scoped>\n",
       "    .dataframe tbody tr th:only-of-type {\n",
       "        vertical-align: middle;\n",
       "    }\n",
       "\n",
       "    .dataframe tbody tr th {\n",
       "        vertical-align: top;\n",
       "    }\n",
       "\n",
       "    .dataframe thead th {\n",
       "        text-align: right;\n",
       "    }\n",
       "</style>\n",
       "<table border=\"1\" class=\"dataframe\">\n",
       "  <thead>\n",
       "    <tr style=\"text-align: right;\">\n",
       "      <th></th>\n",
       "      <th>CENTRE NAME</th>\n",
       "      <th>REGISTRATION NUMBER</th>\n",
       "      <th>NAME</th>\n",
       "      <th>LEVEL</th>\n",
       "      <th>LONG NAME</th>\n",
       "      <th>CODE</th>\n",
       "      <th>TITLE</th>\n",
       "      <th>SESSION</th>\n",
       "    </tr>\n",
       "  </thead>\n",
       "  <tbody>\n",
       "    <tr>\n",
       "      <th>0</th>\n",
       "      <td>ACCRA HIGH SCHOOL</td>\n",
       "      <td>1105054100257</td>\n",
       "      <td>OBENG, BLESSED OSEI</td>\n",
       "      <td>200</td>\n",
       "      <td>DIPLOMA IN BASIC EDUCATION - DISTANCE</td>\n",
       "      <td>EFO211DL</td>\n",
       "      <td>BASIC SCHOOL ADMINISTRATION AND SUPERVISION</td>\n",
       "      <td>20121</td>\n",
       "    </tr>\n",
       "    <tr>\n",
       "      <th>1</th>\n",
       "      <td>ACCRA HIGH SCHOOL</td>\n",
       "      <td>1101013100061</td>\n",
       "      <td>KWAKYE MANU, JOYCE</td>\n",
       "      <td>200</td>\n",
       "      <td>DIPLOMA IN BASIC EDUCATION - DISTANCE</td>\n",
       "      <td>EPS210DL</td>\n",
       "      <td>INTRODUCTION TO GUIDANCE AND COUNSELLING</td>\n",
       "      <td>20121</td>\n",
       "    </tr>\n",
       "    <tr>\n",
       "      <th>2</th>\n",
       "      <td>ACCRA HIGH SCHOOL</td>\n",
       "      <td>1105054100108</td>\n",
       "      <td>ADDO, VIDA</td>\n",
       "      <td>200</td>\n",
       "      <td>DIPLOMA IN BASIC EDUCATION - DISTANCE</td>\n",
       "      <td>EHS310DL</td>\n",
       "      <td>INTRODUCTION TO PHYSICAL EDUCATION</td>\n",
       "      <td>20131</td>\n",
       "    </tr>\n",
       "    <tr>\n",
       "      <th>3</th>\n",
       "      <td>ADA COLLEGE OF EDUCATION</td>\n",
       "      <td>1205056130067</td>\n",
       "      <td>ADRI, SENYO</td>\n",
       "      <td>200</td>\n",
       "      <td>DIPLOMA IN PSYCHOLOGY AND FOUNDATIONS OF EDUCA...</td>\n",
       "      <td>MAT110DL</td>\n",
       "      <td>MATHEMATICS FOR BASIC SCHOOL TEACHERS I</td>\n",
       "      <td>20141</td>\n",
       "    </tr>\n",
       "    <tr>\n",
       "      <th>4</th>\n",
       "      <td>ADA COLLEGE OF EDUCATION</td>\n",
       "      <td>1105053110029</td>\n",
       "      <td>AGYEPONG-ADDO, REXFORD NATHANIEL</td>\n",
       "      <td>200</td>\n",
       "      <td>DIPLOMA IN BASIC EDUCATION - DISTANCE</td>\n",
       "      <td>ENG210DL</td>\n",
       "      <td>ENGLISH FOR BASIC SCHOOL TEACHERS II</td>\n",
       "      <td>20131</td>\n",
       "    </tr>\n",
       "  </tbody>\n",
       "</table>\n",
       "</div>"
      ],
      "text/plain": [
       "                CENTRE NAME REGISTRATION NUMBER  \\\n",
       "0         ACCRA HIGH SCHOOL       1105054100257   \n",
       "1         ACCRA HIGH SCHOOL       1101013100061   \n",
       "2         ACCRA HIGH SCHOOL       1105054100108   \n",
       "3  ADA COLLEGE OF EDUCATION       1205056130067   \n",
       "4  ADA COLLEGE OF EDUCATION       1105053110029   \n",
       "\n",
       "                               NAME LEVEL  \\\n",
       "0               OBENG, BLESSED OSEI   200   \n",
       "1               KWAKYE MANU, JOYCE    200   \n",
       "2                       ADDO, VIDA    200   \n",
       "3                      ADRI, SENYO    200   \n",
       "4  AGYEPONG-ADDO, REXFORD NATHANIEL   200   \n",
       "\n",
       "                                           LONG NAME      CODE  \\\n",
       "0              DIPLOMA IN BASIC EDUCATION - DISTANCE  EFO211DL   \n",
       "1              DIPLOMA IN BASIC EDUCATION - DISTANCE  EPS210DL   \n",
       "2              DIPLOMA IN BASIC EDUCATION - DISTANCE  EHS310DL   \n",
       "3  DIPLOMA IN PSYCHOLOGY AND FOUNDATIONS OF EDUCA...  MAT110DL   \n",
       "4              DIPLOMA IN BASIC EDUCATION - DISTANCE  ENG210DL   \n",
       "\n",
       "                                         TITLE SESSION  \n",
       "0  BASIC SCHOOL ADMINISTRATION AND SUPERVISION   20121  \n",
       "1     INTRODUCTION TO GUIDANCE AND COUNSELLING   20121  \n",
       "2           INTRODUCTION TO PHYSICAL EDUCATION   20131  \n",
       "3      MATHEMATICS FOR BASIC SCHOOL TEACHERS I   20141  \n",
       "4         ENGLISH FOR BASIC SCHOOL TEACHERS II   20131  "
      ]
     },
     "execution_count": 28,
     "metadata": {},
     "output_type": "execute_result"
    }
   ],
   "source": [
    "df = df.reset_index()\n",
    "df.head()"
   ]
  },
  {
   "cell_type": "code",
   "execution_count": null,
   "id": "d8452b51",
   "metadata": {},
   "outputs": [],
   "source": [
    "def clean_data():\n",
    "    \n",
    "    \"\"\"clean data\"\"\"\n",
    "    \n",
    "    df.columns = [i.upper() for i in df.columns]\n",
    "    df = df.dropna()\n",
    "    new_columns = [i.replace(\"_\",\" \") for i in df.columns]\n",
    "    df.columns = new_columns\n",
    "    df.set_index(\"CENTRE NAME\",inplace = True)\n",
    "    df.drop('CENTRE NAME',axis = 0,inplace = True)\n",
    "    \n",
    "    index_ = [i for i in range(1,len(df)+1)]\n",
    "    index_ = list(range(1,len(df)+1))\n",
    "    df = df.reset_index()\n",
    "    df.index = index_\n",
    "    \n",
    "    df[['REGISTRATION NUMBER','LEVEL','SESSION']] = df[['REGISTRATION NUMBER','LEVEL','SESSION']].astype(np.int64)\n",
    "    \n",
    "    try:\n",
    "        assert 'CENTER NAME' not in df['CENTRE NAME'].unique()\n",
    "    \n",
    "    except AssertionError:\n",
    "        print(\"center name still exists\")"
   ]
  },
  {
   "cell_type": "code",
   "execution_count": 44,
   "id": "c9df06e6",
   "metadata": {},
   "outputs": [],
   "source": [
    "df.index = index_"
   ]
  },
  {
   "cell_type": "code",
   "execution_count": 45,
   "id": "1e46b158",
   "metadata": {},
   "outputs": [
    {
     "data": {
      "text/html": [
       "<div>\n",
       "<style scoped>\n",
       "    .dataframe tbody tr th:only-of-type {\n",
       "        vertical-align: middle;\n",
       "    }\n",
       "\n",
       "    .dataframe tbody tr th {\n",
       "        vertical-align: top;\n",
       "    }\n",
       "\n",
       "    .dataframe thead th {\n",
       "        text-align: right;\n",
       "    }\n",
       "</style>\n",
       "<table border=\"1\" class=\"dataframe\">\n",
       "  <thead>\n",
       "    <tr style=\"text-align: right;\">\n",
       "      <th></th>\n",
       "      <th>CENTRE NAME</th>\n",
       "      <th>REGISTRATION NUMBER</th>\n",
       "      <th>NAME</th>\n",
       "      <th>LEVEL</th>\n",
       "      <th>LONG NAME</th>\n",
       "      <th>CODE</th>\n",
       "      <th>TITLE</th>\n",
       "      <th>SESSION</th>\n",
       "    </tr>\n",
       "  </thead>\n",
       "  <tbody>\n",
       "    <tr>\n",
       "      <th>1</th>\n",
       "      <td>ACCRA HIGH SCHOOL</td>\n",
       "      <td>1105054100257</td>\n",
       "      <td>OBENG, BLESSED OSEI</td>\n",
       "      <td>200</td>\n",
       "      <td>DIPLOMA IN BASIC EDUCATION - DISTANCE</td>\n",
       "      <td>EFO211DL</td>\n",
       "      <td>BASIC SCHOOL ADMINISTRATION AND SUPERVISION</td>\n",
       "      <td>20121</td>\n",
       "    </tr>\n",
       "    <tr>\n",
       "      <th>2</th>\n",
       "      <td>ACCRA HIGH SCHOOL</td>\n",
       "      <td>1101013100061</td>\n",
       "      <td>KWAKYE MANU, JOYCE</td>\n",
       "      <td>200</td>\n",
       "      <td>DIPLOMA IN BASIC EDUCATION - DISTANCE</td>\n",
       "      <td>EPS210DL</td>\n",
       "      <td>INTRODUCTION TO GUIDANCE AND COUNSELLING</td>\n",
       "      <td>20121</td>\n",
       "    </tr>\n",
       "    <tr>\n",
       "      <th>3</th>\n",
       "      <td>ACCRA HIGH SCHOOL</td>\n",
       "      <td>1105054100108</td>\n",
       "      <td>ADDO, VIDA</td>\n",
       "      <td>200</td>\n",
       "      <td>DIPLOMA IN BASIC EDUCATION - DISTANCE</td>\n",
       "      <td>EHS310DL</td>\n",
       "      <td>INTRODUCTION TO PHYSICAL EDUCATION</td>\n",
       "      <td>20131</td>\n",
       "    </tr>\n",
       "    <tr>\n",
       "      <th>4</th>\n",
       "      <td>ADA COLLEGE OF EDUCATION</td>\n",
       "      <td>1205056130067</td>\n",
       "      <td>ADRI, SENYO</td>\n",
       "      <td>200</td>\n",
       "      <td>DIPLOMA IN PSYCHOLOGY AND FOUNDATIONS OF EDUCA...</td>\n",
       "      <td>MAT110DL</td>\n",
       "      <td>MATHEMATICS FOR BASIC SCHOOL TEACHERS I</td>\n",
       "      <td>20141</td>\n",
       "    </tr>\n",
       "    <tr>\n",
       "      <th>5</th>\n",
       "      <td>ADA COLLEGE OF EDUCATION</td>\n",
       "      <td>1105053110029</td>\n",
       "      <td>AGYEPONG-ADDO, REXFORD NATHANIEL</td>\n",
       "      <td>200</td>\n",
       "      <td>DIPLOMA IN BASIC EDUCATION - DISTANCE</td>\n",
       "      <td>ENG210DL</td>\n",
       "      <td>ENGLISH FOR BASIC SCHOOL TEACHERS II</td>\n",
       "      <td>20131</td>\n",
       "    </tr>\n",
       "  </tbody>\n",
       "</table>\n",
       "</div>"
      ],
      "text/plain": [
       "                CENTRE NAME REGISTRATION NUMBER  \\\n",
       "1         ACCRA HIGH SCHOOL       1105054100257   \n",
       "2         ACCRA HIGH SCHOOL       1101013100061   \n",
       "3         ACCRA HIGH SCHOOL       1105054100108   \n",
       "4  ADA COLLEGE OF EDUCATION       1205056130067   \n",
       "5  ADA COLLEGE OF EDUCATION       1105053110029   \n",
       "\n",
       "                               NAME LEVEL  \\\n",
       "1               OBENG, BLESSED OSEI   200   \n",
       "2               KWAKYE MANU, JOYCE    200   \n",
       "3                       ADDO, VIDA    200   \n",
       "4                      ADRI, SENYO    200   \n",
       "5  AGYEPONG-ADDO, REXFORD NATHANIEL   200   \n",
       "\n",
       "                                           LONG NAME      CODE  \\\n",
       "1              DIPLOMA IN BASIC EDUCATION - DISTANCE  EFO211DL   \n",
       "2              DIPLOMA IN BASIC EDUCATION - DISTANCE  EPS210DL   \n",
       "3              DIPLOMA IN BASIC EDUCATION - DISTANCE  EHS310DL   \n",
       "4  DIPLOMA IN PSYCHOLOGY AND FOUNDATIONS OF EDUCA...  MAT110DL   \n",
       "5              DIPLOMA IN BASIC EDUCATION - DISTANCE  ENG210DL   \n",
       "\n",
       "                                         TITLE SESSION  \n",
       "1  BASIC SCHOOL ADMINISTRATION AND SUPERVISION   20121  \n",
       "2     INTRODUCTION TO GUIDANCE AND COUNSELLING   20121  \n",
       "3           INTRODUCTION TO PHYSICAL EDUCATION   20131  \n",
       "4      MATHEMATICS FOR BASIC SCHOOL TEACHERS I   20141  \n",
       "5         ENGLISH FOR BASIC SCHOOL TEACHERS II   20131  "
      ]
     },
     "execution_count": 45,
     "metadata": {},
     "output_type": "execute_result"
    }
   ],
   "source": [
    "df.head()"
   ]
  },
  {
   "cell_type": "code",
   "execution_count": 46,
   "id": "4076df7d",
   "metadata": {},
   "outputs": [],
   "source": [
    "df[['REGISTRATION NUMBER','LEVEL','SESSION']] = df[['REGISTRATION NUMBER','LEVEL','SESSION']].astype(np.int64)"
   ]
  },
  {
   "cell_type": "code",
   "execution_count": 47,
   "id": "2e8a1505",
   "metadata": {},
   "outputs": [],
   "source": [
    "try:\n",
    "    assert 'CENTER NAME' not in df['CENTRE NAME'].unique()\n",
    "    \n",
    "except AssertionError:\n",
    "    print(\"center name still exists\")"
   ]
  },
  {
   "cell_type": "code",
   "execution_count": 48,
   "id": "1bf70d49",
   "metadata": {},
   "outputs": [
    {
     "data": {
      "text/html": [
       "<div>\n",
       "<style scoped>\n",
       "    .dataframe tbody tr th:only-of-type {\n",
       "        vertical-align: middle;\n",
       "    }\n",
       "\n",
       "    .dataframe tbody tr th {\n",
       "        vertical-align: top;\n",
       "    }\n",
       "\n",
       "    .dataframe thead th {\n",
       "        text-align: right;\n",
       "    }\n",
       "</style>\n",
       "<table border=\"1\" class=\"dataframe\">\n",
       "  <thead>\n",
       "    <tr style=\"text-align: right;\">\n",
       "      <th></th>\n",
       "      <th>CENTRE NAME</th>\n",
       "      <th>REGISTRATION NUMBER</th>\n",
       "      <th>NAME</th>\n",
       "      <th>LEVEL</th>\n",
       "      <th>LONG NAME</th>\n",
       "      <th>CODE</th>\n",
       "      <th>TITLE</th>\n",
       "      <th>SESSION</th>\n",
       "    </tr>\n",
       "  </thead>\n",
       "  <tbody>\n",
       "    <tr>\n",
       "      <th>1</th>\n",
       "      <td>ACCRA HIGH SCHOOL</td>\n",
       "      <td>1105054100257</td>\n",
       "      <td>OBENG, BLESSED OSEI</td>\n",
       "      <td>200</td>\n",
       "      <td>DIPLOMA IN BASIC EDUCATION - DISTANCE</td>\n",
       "      <td>EFO211DL</td>\n",
       "      <td>BASIC SCHOOL ADMINISTRATION AND SUPERVISION</td>\n",
       "      <td>20121</td>\n",
       "    </tr>\n",
       "    <tr>\n",
       "      <th>2</th>\n",
       "      <td>ACCRA HIGH SCHOOL</td>\n",
       "      <td>1101013100061</td>\n",
       "      <td>KWAKYE MANU, JOYCE</td>\n",
       "      <td>200</td>\n",
       "      <td>DIPLOMA IN BASIC EDUCATION - DISTANCE</td>\n",
       "      <td>EPS210DL</td>\n",
       "      <td>INTRODUCTION TO GUIDANCE AND COUNSELLING</td>\n",
       "      <td>20121</td>\n",
       "    </tr>\n",
       "    <tr>\n",
       "      <th>3</th>\n",
       "      <td>ACCRA HIGH SCHOOL</td>\n",
       "      <td>1105054100108</td>\n",
       "      <td>ADDO, VIDA</td>\n",
       "      <td>200</td>\n",
       "      <td>DIPLOMA IN BASIC EDUCATION - DISTANCE</td>\n",
       "      <td>EHS310DL</td>\n",
       "      <td>INTRODUCTION TO PHYSICAL EDUCATION</td>\n",
       "      <td>20131</td>\n",
       "    </tr>\n",
       "    <tr>\n",
       "      <th>4</th>\n",
       "      <td>ADA COLLEGE OF EDUCATION</td>\n",
       "      <td>1205056130067</td>\n",
       "      <td>ADRI, SENYO</td>\n",
       "      <td>200</td>\n",
       "      <td>DIPLOMA IN PSYCHOLOGY AND FOUNDATIONS OF EDUCA...</td>\n",
       "      <td>MAT110DL</td>\n",
       "      <td>MATHEMATICS FOR BASIC SCHOOL TEACHERS I</td>\n",
       "      <td>20141</td>\n",
       "    </tr>\n",
       "    <tr>\n",
       "      <th>5</th>\n",
       "      <td>ADA COLLEGE OF EDUCATION</td>\n",
       "      <td>1105053110029</td>\n",
       "      <td>AGYEPONG-ADDO, REXFORD NATHANIEL</td>\n",
       "      <td>200</td>\n",
       "      <td>DIPLOMA IN BASIC EDUCATION - DISTANCE</td>\n",
       "      <td>ENG210DL</td>\n",
       "      <td>ENGLISH FOR BASIC SCHOOL TEACHERS II</td>\n",
       "      <td>20131</td>\n",
       "    </tr>\n",
       "  </tbody>\n",
       "</table>\n",
       "</div>"
      ],
      "text/plain": [
       "                CENTRE NAME  REGISTRATION NUMBER  \\\n",
       "1         ACCRA HIGH SCHOOL        1105054100257   \n",
       "2         ACCRA HIGH SCHOOL        1101013100061   \n",
       "3         ACCRA HIGH SCHOOL        1105054100108   \n",
       "4  ADA COLLEGE OF EDUCATION        1205056130067   \n",
       "5  ADA COLLEGE OF EDUCATION        1105053110029   \n",
       "\n",
       "                               NAME  LEVEL  \\\n",
       "1               OBENG, BLESSED OSEI    200   \n",
       "2               KWAKYE MANU, JOYCE     200   \n",
       "3                       ADDO, VIDA     200   \n",
       "4                      ADRI, SENYO     200   \n",
       "5  AGYEPONG-ADDO, REXFORD NATHANIEL    200   \n",
       "\n",
       "                                           LONG NAME      CODE  \\\n",
       "1              DIPLOMA IN BASIC EDUCATION - DISTANCE  EFO211DL   \n",
       "2              DIPLOMA IN BASIC EDUCATION - DISTANCE  EPS210DL   \n",
       "3              DIPLOMA IN BASIC EDUCATION - DISTANCE  EHS310DL   \n",
       "4  DIPLOMA IN PSYCHOLOGY AND FOUNDATIONS OF EDUCA...  MAT110DL   \n",
       "5              DIPLOMA IN BASIC EDUCATION - DISTANCE  ENG210DL   \n",
       "\n",
       "                                         TITLE  SESSION  \n",
       "1  BASIC SCHOOL ADMINISTRATION AND SUPERVISION    20121  \n",
       "2     INTRODUCTION TO GUIDANCE AND COUNSELLING    20121  \n",
       "3           INTRODUCTION TO PHYSICAL EDUCATION    20131  \n",
       "4      MATHEMATICS FOR BASIC SCHOOL TEACHERS I    20141  \n",
       "5         ENGLISH FOR BASIC SCHOOL TEACHERS II    20131  "
      ]
     },
     "execution_count": 48,
     "metadata": {},
     "output_type": "execute_result"
    }
   ],
   "source": [
    "df.head()"
   ]
  },
  {
   "cell_type": "code",
   "execution_count": 49,
   "id": "89cfab78",
   "metadata": {
    "scrolled": true
   },
   "outputs": [],
   "source": [
    "def execute(sheetname):\n",
    "    \n",
    "    try:\n",
    "        assert 'CENTER NAME' not in df['CENTRE NAME'].unique()\n",
    "\n",
    "    except AssertionError:\n",
    "        print(\"center name still exists\")\n",
    "\n",
    "    os.chdir(base_dir+'\\\\sheets')\n",
    "    print(\"current working directory : \",os.getcwd())\n",
    "    os.mkdir(sheetname) #create directory\n",
    "    os.chdir(sheetname) #change directory\n",
    "    \n",
    "    names = []\n",
    "    centers = df['CENTRE NAME'].unique()\n",
    "    for i in centers:\n",
    "        frame = df[df['CENTRE NAME'] == i]\n",
    "#         index_ = index_ = [i for i in range(1,len(df)+1)]\n",
    "#         print(frame)\n",
    "#         print(i)\n",
    "#         print(index_)\n",
    "#         frame.index = index_\n",
    "        name = i.replace(\" \",\"_\").lower()\n",
    "        name = f'{name}.xlsx'\n",
    "        #pd.DataFrame([[\"\",\"\",\"\"]], columns=['A','B','C'])\n",
    "        frame.to_excel(name)\n",
    "        names.append(name)\n",
    "        \n",
    "    return names"
   ]
  },
  {
   "cell_type": "code",
   "execution_count": 50,
   "id": "93acf33d",
   "metadata": {},
   "outputs": [],
   "source": [
    "def format_names(wb,ws,excel_name,center_name:str,purpose):\n",
    "    \n",
    "    cells = []\n",
    "    for i in range(1,4):\n",
    "        cells.append(ws.cell(row = i,column = 5))\n",
    "        \n",
    "        \n",
    "    ws.column_dimensions['A'].width = 17\n",
    "    ws.column_dimensions['B'].width = 13.45\n",
    "    ws.column_dimensions['C'].width = 15.3\n",
    "    ws.column_dimensions['D'].width = 5.3\n",
    "    ws.column_dimensions['E'].width = 20\n",
    "    ws.column_dimensions['F'].width = 9.15\n",
    "    ws.column_dimensions['G'].width = 27\n",
    "    ws.column_dimensions['H'].width = 7.9\n",
    "        \n",
    "    cells[0].value = 'UNIVERSITY OF CAPE COAST'\n",
    "    cells[1].value = purpose\n",
    "    cells[2].value = center_name\n",
    "    \n",
    "    cells[0].alignment = Alignment(horizontal = 'center',vertical = 'center')\n",
    "    cells[1].alignment = Alignment(horizontal = 'center',vertical = 'center')\n",
    "    cells[2].alignment = Alignment(horizontal = 'center',vertical = 'center')\n",
    "    \n",
    "    fontStyle = Font(size = \"18\",bold = True)\n",
    "    cells[0].font = fontStyle\n",
    "    cells[1].font = fontStyle\n",
    "    cells[2].font = fontStyle\n",
    "    \n",
    "  \n",
    "            \n",
    "    wb.save(excel_name)\n",
    "    print('workbook saved')\n",
    "    \n",
    "    return True"
   ]
  },
  {
   "cell_type": "code",
   "execution_count": 51,
   "id": "41edf420",
   "metadata": {},
   "outputs": [],
   "source": [
    "def main(sheetname,purpose:str):\n",
    "    try:\n",
    "        excel_names = execute(sheetname)\n",
    "    except Exception as err:\n",
    "        print(\"First Execution Failed\", err)\n",
    "        raise err\n",
    "        \n",
    "    for i in os.listdir():\n",
    "        wb = openpyxl.load_workbook(i)\n",
    "        ws = wb['Sheet1']\n",
    "        ws.insert_rows(0,4)\n",
    "        try:  \n",
    "            remove_xls = i.replace(\".xlsx\",\"\")\n",
    "            remove_underscores = remove_xls.replace(\"_\",\" \")\n",
    "            center_names = remove_underscores.upper()\n",
    "            output = format_names(wb,ws = ws,excel_name = i,center_name = center_names,purpose = purpose)\n",
    "            assert output == True\n",
    "        except AssertionError:\n",
    "            print('Second Execution Failed')\n",
    "            print('SUCCESS')"
   ]
  },
  {
   "cell_type": "code",
   "execution_count": 52,
   "id": "0c17f257",
   "metadata": {},
   "outputs": [
    {
     "name": "stdout",
     "output_type": "stream",
     "text": [
      "current working directory :  D:\\Users\\mk-armah\\OneDrive\\VS-CODE\\SQL\\SQLSERVER\\CoDE-Data-Migration\\sheets\n",
      "workbook saved\n",
      "workbook saved\n",
      "workbook saved\n",
      "workbook saved\n",
      "workbook saved\n",
      "workbook saved\n",
      "workbook saved\n",
      "workbook saved\n",
      "workbook saved\n",
      "workbook saved\n",
      "workbook saved\n",
      "workbook saved\n",
      "workbook saved\n",
      "workbook saved\n",
      "workbook saved\n",
      "workbook saved\n",
      "workbook saved\n",
      "workbook saved\n",
      "workbook saved\n",
      "workbook saved\n",
      "workbook saved\n",
      "workbook saved\n",
      "workbook saved\n",
      "workbook saved\n",
      "workbook saved\n",
      "workbook saved\n",
      "workbook saved\n",
      "workbook saved\n",
      "workbook saved\n",
      "workbook saved\n",
      "workbook saved\n",
      "workbook saved\n",
      "workbook saved\n",
      "workbook saved\n",
      "workbook saved\n",
      "workbook saved\n",
      "workbook saved\n",
      "workbook saved\n",
      "workbook saved\n",
      "workbook saved\n",
      "workbook saved\n",
      "workbook saved\n",
      "workbook saved\n",
      "workbook saved\n",
      "workbook saved\n",
      "workbook saved\n",
      "workbook saved\n",
      "workbook saved\n",
      "workbook saved\n",
      "workbook saved\n",
      "workbook saved\n",
      "workbook saved\n",
      "workbook saved\n",
      "workbook saved\n",
      "workbook saved\n",
      "workbook saved\n",
      "workbook saved\n",
      "workbook saved\n",
      "workbook saved\n",
      "workbook saved\n",
      "workbook saved\n",
      "workbook saved\n"
     ]
    }
   ],
   "source": [
    "main(sheetname = sheetname,purpose = purpose)"
   ]
  },
  {
   "cell_type": "code",
   "execution_count": 53,
   "id": "b147d4c9",
   "metadata": {},
   "outputs": [
    {
     "data": {
      "text/plain": [
       "['accra_high_school.xlsx',\n",
       " 'ada_college_of_education.xlsx',\n",
       " 'akatsi_college_of_education.xlsx',\n",
       " 'apam_shs.xlsx',\n",
       " 'ashante_mampong_technical_college_of_education.xlsx',\n",
       " 'atlantic_wesleyan_college_kasoa.xlsx',\n",
       " 'boa_amposem_shs_-_dunkwa-on-offin.xlsx',\n",
       " 'bolgatanga_technical_school.xlsx',\n",
       " 'bolga_girls_senior_high_school.xlsx',\n",
       " 'breman_asikuma_snr_high.xlsx',\n",
       " 'chemu_shs.xlsx',\n",
       " 'dormaa_senior_high_school.xlsx',\n",
       " 'dwamena_akenten_senior_high,_offinso.xlsx',\n",
       " 'enchi_college_of_education.xlsx',\n",
       " 'fafraha_comm._sch.-adenta_.xlsx',\n",
       " 'fiaseman_senior_high_school.xlsx',\n",
       " 'gambaga_girls_shs.xlsx',\n",
       " 'ghana_secondary_school.xlsx',\n",
       " 'holy_child_college_of_education.xlsx',\n",
       " 'ho_polytechnic.xlsx',\n",
       " 'jasikan_college_of_education.xlsx',\n",
       " 'kintampo_senior_high_school.xlsx',\n",
       " 'konongo_odumase_senior_high_school.xlsx',\n",
       " 'kumasi_anglican_secondary_school.xlsx',\n",
       " 'kumasi_polytechnic.xlsx',\n",
       " 'kumasi_seniorl_high_technical_school,_patasi.xlsx',\n",
       " 'kumasi_technical_institute.xlsx',\n",
       " 'lawra_shs.xlsx',\n",
       " 'lutheran_school_-_kanda.xlsx',\n",
       " 'lutheran_school_-_madina.xlsx',\n",
       " 'mante_-_din.xlsx',\n",
       " 'mawuli_senior_high_school.xlsx',\n",
       " 'mmofraturo_junior_high_school.xlsx',\n",
       " 'obiri_yeboah_senior_high_school.xlsx',\n",
       " 'obuasi_secondary_technical_school.xlsx',\n",
       " 'oda_secondary_technical_school.xlsx',\n",
       " 'odorgonno_senior_high_school.xlsx',\n",
       " 'oyoko_methodist_school.xlsx',\n",
       " 'papafio_hills.xlsx',\n",
       " 'sefwi_wiawso_college_of_education.xlsx',\n",
       " 'serwaa_nyarko_shs.xlsx',\n",
       " 'simms_shs.xlsx',\n",
       " 'st._johns_senior_high_school_(takoradi).xlsx',\n",
       " 'st_margaret_mary_senior_technical_school.xlsx',\n",
       " 'sunyani_technical_university.xlsx',\n",
       " 'swedru_shs.xlsx',\n",
       " 't._i_ahmadiyya.xlsx',\n",
       " 'takoradi_polytechnic.xlsx',\n",
       " 'takoradi_senior_high_school.xlsx',\n",
       " 'tamale_college_of_education.xlsx',\n",
       " 'tamale_technical_university.xlsx',\n",
       " 'techiman_senior_high_school.xlsx',\n",
       " 'tema_datus_complex_.xlsx',\n",
       " 'tema_parents.xlsx',\n",
       " 'tema_senior_high_school.xlsx',\n",
       " 'twifo_praso_shs.xlsx',\n",
       " 'university_of_cape_coast.xlsx',\n",
       " 'wa_senior_high_school.xlsx',\n",
       " 'wesley_college_of_education.xlsx',\n",
       " 'west_africa_senior_secondary.xlsx',\n",
       " 'zebilla_shs.xlsx',\n",
       " 'zenith_college.xlsx']"
      ]
     },
     "execution_count": 53,
     "metadata": {},
     "output_type": "execute_result"
    }
   ],
   "source": [
    "os.listdir()"
   ]
  },
  {
   "cell_type": "code",
   "execution_count": null,
   "id": "03308518",
   "metadata": {},
   "outputs": [],
   "source": [
    "\n",
    "s3.meta.client.upload_file('zebilla_shs.xlsx','ucc-code-bucket','zebilla_shs.xlsx')"
   ]
  },
  {
   "cell_type": "code",
   "execution_count": null,
   "id": "3200eb6f",
   "metadata": {},
   "outputs": [
    {
     "name": "stdout",
     "output_type": "stream",
     "text": [
      "go\n"
     ]
    }
   ],
   "source": [
    "for i in os.listdir(): \n",
    "    try:\n",
    "        response = s3.upload_file(file_name = i,bucket = , object_name = i)\n",
    "        print(response)\n",
    "\n",
    "    except Exception as exc:\n",
    "\n",
    "        print(f'could not {i} to bucket')"
   ]
  }
 ],
 "metadata": {
  "kernelspec": {
   "display_name": "Python 3 (ipykernel)",
   "language": "python",
   "name": "python3"
  },
  "language_info": {
   "codemirror_mode": {
    "name": "ipython",
    "version": 3
   },
   "file_extension": ".py",
   "mimetype": "text/x-python",
   "name": "python",
   "nbconvert_exporter": "python",
   "pygments_lexer": "ipython3",
   "version": "3.9.12"
  },
  "vscode": {
   "interpreter": {
    "hash": "82e226e8b162706c3392436c57740e58ce3de4a4f0a7e08c0fc7e3cc5cc8ea1a"
   }
  }
 },
 "nbformat": 4,
 "nbformat_minor": 5
}
